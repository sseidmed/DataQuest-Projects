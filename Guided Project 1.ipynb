{
 "cells": [
  {
   "cell_type": "markdown",
   "metadata": {},
   "source": [
    "# App Profiles for the App Store and Google Play Markets\n",
    "\n",
    "*What is this project about?\n",
    "The purpose of this project is to analyze data to help our developers understand what type of apps are likely to attract more users. This project looks at two separate files on Android and iOS apps. *"
   ]
  },
  {
   "cell_type": "markdown",
   "metadata": {},
   "source": [
    "*Import 'reader' from 'csv' module. Open both files and save them in 2 variables without their header rows.*"
   ]
  },
  {
   "cell_type": "code",
   "execution_count": 3,
   "metadata": {
    "collapsed": true
   },
   "outputs": [],
   "source": [
    "from csv import reader\n",
    "\n",
    "opened_file_google = open('googleplaystore.csv', encoding=\"utf-8\")\n",
    "read_file_google = reader(opened_file_google)\n",
    "google = list(read_file_google)\n",
    "google_header = google[0]\n",
    "google = google[1:]\n",
    "\n",
    "opened_file_apple = open('AppleStore.csv', encoding=\"utf-8\")\n",
    "read_file_apple = reader(opened_file_apple)\n",
    "apple = list(read_file_apple)\n",
    "apple_header = apple[0]\n",
    "apple = apple[1:]"
   ]
  },
  {
   "cell_type": "markdown",
   "metadata": {},
   "source": [
    "*'explore_data' function to help us choose parts of the file we want to print. This also shows the number of rows and columns.*"
   ]
  },
  {
   "cell_type": "code",
   "execution_count": 4,
   "metadata": {
    "collapsed": true
   },
   "outputs": [],
   "source": [
    "def explore_data(dataset, start, end, rows_and_columns=False):\n",
    "    dataset_slice = dataset[start:end]    \n",
    "    for row in dataset_slice:\n",
    "        print(row)\n",
    "        print('\\n') # adds a new (empty) line after each row\n",
    "\n",
    "    if rows_and_columns:\n",
    "        print('Number of rows:', len(dataset))\n",
    "        print('Number of columns:', len(dataset[0]))"
   ]
  },
  {
   "cell_type": "markdown",
   "metadata": {},
   "source": [
    "*Let's test our function with both of our files and print the first 5 rows for each of the files. Android apps file has 10841 rows  and 13 columns, while iOS apps file has 7197 rows and 17 columns.*"
   ]
  },
  {
   "cell_type": "code",
   "execution_count": 5,
   "metadata": {},
   "outputs": [
    {
     "name": "stdout",
     "output_type": "stream",
     "text": [
      "['Photo Editor & Candy Camera & Grid & ScrapBook', 'ART_AND_DESIGN', '4.1', '159', '19M', '10,000+', 'Free', '0', 'Everyone', 'Art & Design', 'January 7, 2018', '1.0.0', '4.0.3 and up']\n",
      "\n",
      "\n",
      "['Coloring book moana', 'ART_AND_DESIGN', '3.9', '967', '14M', '500,000+', 'Free', '0', 'Everyone', 'Art & Design;Pretend Play', 'January 15, 2018', '2.0.0', '4.0.3 and up']\n",
      "\n",
      "\n",
      "['U Launcher Lite – FREE Live Cool Themes, Hide Apps', 'ART_AND_DESIGN', '4.7', '87510', '8.7M', '5,000,000+', 'Free', '0', 'Everyone', 'Art & Design', 'August 1, 2018', '1.2.4', '4.0.3 and up']\n",
      "\n",
      "\n",
      "['Sketch - Draw & Paint', 'ART_AND_DESIGN', '4.5', '215644', '25M', '50,000,000+', 'Free', '0', 'Teen', 'Art & Design', 'June 8, 2018', 'Varies with device', '4.2 and up']\n",
      "\n",
      "\n",
      "['Pixel Draw - Number Art Coloring Book', 'ART_AND_DESIGN', '4.3', '967', '2.8M', '100,000+', 'Free', '0', 'Everyone', 'Art & Design;Creativity', 'June 20, 2018', '1.1', '4.4 and up']\n",
      "\n",
      "\n",
      "Number of rows: 10841\n",
      "Number of columns: 13\n",
      "['1', '281656475', 'PAC-MAN Premium', '100788224', 'USD', '3.99', '21292', '26', '4', '4.5', '6.3.5', '4+', 'Games', '38', '5', '10', '1']\n",
      "\n",
      "\n",
      "['2', '281796108', 'Evernote - stay organized', '158578688', 'USD', '0', '161065', '26', '4', '3.5', '8.2.2', '4+', 'Productivity', '37', '5', '23', '1']\n",
      "\n",
      "\n",
      "['3', '281940292', 'WeatherBug - Local Weather, Radar, Maps, Alerts', '100524032', 'USD', '0', '188583', '2822', '3.5', '4.5', '5.0.0', '4+', 'Weather', '37', '5', '3', '1']\n",
      "\n",
      "\n",
      "['4', '282614216', 'eBay: Best App to Buy, Sell, Save! Online Shopping', '128512000', 'USD', '0', '262241', '649', '4', '4.5', '5.10.0', '12+', 'Shopping', '37', '5', '9', '1']\n",
      "\n",
      "\n",
      "['5', '282935706', 'Bible', '92774400', 'USD', '0', '985920', '5320', '4.5', '5', '7.5.1', '4+', 'Reference', '37', '5', '45', '1']\n",
      "\n",
      "\n",
      "Number of rows: 7197\n",
      "Number of columns: 17\n"
     ]
    }
   ],
   "source": [
    "explore_data(google, 0, 5, True)\n",
    "explore_data(apple, 0, 5, True)"
   ]
  },
  {
   "cell_type": "markdown",
   "metadata": {},
   "source": [
    "*Here we remove a row that has a missing value.*"
   ]
  },
  {
   "cell_type": "code",
   "execution_count": 7,
   "metadata": {
    "collapsed": true
   },
   "outputs": [],
   "source": [
    "del google[10472]\n"
   ]
  },
  {
   "cell_type": "code",
   "execution_count": 8,
   "metadata": {},
   "outputs": [
    {
     "data": {
      "text/plain": [
       "[['Xposed Wi-Fi-Pwd',\n",
       "  'PERSONALIZATION',\n",
       "  '3.5',\n",
       "  '1042',\n",
       "  '404k',\n",
       "  '100,000+',\n",
       "  'Free',\n",
       "  '0',\n",
       "  'Everyone',\n",
       "  'Personalization',\n",
       "  'August 5, 2014',\n",
       "  '3.0.0',\n",
       "  '4.0.3 and up'],\n",
       " ['osmino Wi-Fi: free WiFi',\n",
       "  'TOOLS',\n",
       "  '4.2',\n",
       "  '134203',\n",
       "  '4.1M',\n",
       "  '10,000,000+',\n",
       "  'Free',\n",
       "  '0',\n",
       "  'Everyone',\n",
       "  'Tools',\n",
       "  'August 7, 2018',\n",
       "  '6.06.14',\n",
       "  '4.4 and up']]"
      ]
     },
     "execution_count": 8,
     "metadata": {},
     "output_type": "execute_result"
    }
   ],
   "source": [
    "google[10471:10473]\n"
   ]
  },
  {
   "cell_type": "markdown",
   "metadata": {},
   "source": [
    "*Find duplicate values in the Android apps files. The code below demonstrates 3 instances of Twitter, so we will have to remove all but one. Based on the highest rating, which is at index 3 (or based on the most recent date at index 10), we will keep only one unique row for each app.*"
   ]
  },
  {
   "cell_type": "code",
   "execution_count": 9,
   "metadata": {},
   "outputs": [
    {
     "name": "stdout",
     "output_type": "stream",
     "text": [
      "['Twitter', 'NEWS_AND_MAGAZINES', '4.3', '11667403', 'Varies with device', '500,000,000+', 'Free', '0', 'Mature 17+', 'News & Magazines', 'August 6, 2018', 'Varies with device', 'Varies with device']\n",
      "['Twitter', 'NEWS_AND_MAGAZINES', '4.3', '11667403', 'Varies with device', '500,000,000+', 'Free', '0', 'Mature 17+', 'News & Magazines', 'August 6, 2018', 'Varies with device', 'Varies with device']\n",
      "['Twitter', 'NEWS_AND_MAGAZINES', '4.3', '11657972', 'Varies with device', '500,000,000+', 'Free', '0', 'Mature 17+', 'News & Magazines', 'July 30, 2018', 'Varies with device', 'Varies with device']\n"
     ]
    }
   ],
   "source": [
    "for app in google:\n",
    "    name = app[0]\n",
    "    if name == \"Twitter\":\n",
    "        print(app)"
   ]
  },
  {
   "cell_type": "markdown",
   "metadata": {},
   "source": [
    "*Delete duplicate rows in the data. Android apps file has several duplicated. In the code below I will sort unique apps into one list, and duplicate apps into another list.*"
   ]
  },
  {
   "cell_type": "code",
   "execution_count": 10,
   "metadata": {},
   "outputs": [
    {
     "name": "stdout",
     "output_type": "stream",
     "text": [
      "Expected length of unique apps:  9659\n",
      "Number of duplicate apps:  1181\n",
      "['Quick PDF Scanner + OCR FREE', 'Box', 'Google My Business', 'ZOOM Cloud Meetings', 'join.me - Simple Meetings', 'Box', 'Zenefits', 'Google Ads', 'Google My Business', 'Slack', 'FreshBooks Classic', 'Insightly CRM', 'QuickBooks Accounting: Invoicing & Expenses', 'HipChat - Chat Built for Teams', 'Xero Accounting Software', 'MailChimp - Email, Marketing Automation', 'Crew - Free Messaging and Scheduling', 'Asana: organize team projects', 'Google Analytics', 'AdWords Express']\n"
     ]
    }
   ],
   "source": [
    "duplicate_apps = []\n",
    "unique_apps = []\n",
    "for app in google:\n",
    "    name = app[0]\n",
    "    if name in unique_apps:\n",
    "        duplicate_apps.append(name)\n",
    "    else:\n",
    "        unique_apps.append(name)\n",
    "print('Expected length of unique apps: ', len(google) - 1181)\n",
    "print('Number of duplicate apps: ', len(duplicate_apps))\n",
    "print(duplicate_apps[:20])\n"
   ]
  },
  {
   "cell_type": "markdown",
   "metadata": {},
   "source": [
    "*Below we create a dictionary where each key is a unique app name and the corresponding dictionary value is the highest number of reviews of that app.*"
   ]
  },
  {
   "cell_type": "code",
   "execution_count": 11,
   "metadata": {},
   "outputs": [
    {
     "name": "stdout",
     "output_type": "stream",
     "text": [
      "9659\n"
     ]
    }
   ],
   "source": [
    "reviews_max = {}\n",
    "for app in google:\n",
    "    name = app[0]\n",
    "    n_reviews = float(app[3])\n",
    "    if name in reviews_max and reviews_max[name] < n_reviews:\n",
    "        reviews_max[name] = n_reviews\n",
    "    if name not in reviews_max:\n",
    "        reviews_max[name] = n_reviews\n",
    "print(len(reviews_max))"
   ]
  },
  {
   "cell_type": "code",
   "execution_count": 12,
   "metadata": {
    "collapsed": true
   },
   "outputs": [],
   "source": [
    "android_clean = []\n",
    "already_added = []"
   ]
  },
  {
   "cell_type": "markdown",
   "metadata": {},
   "source": [
    "*Let's loop through Android dataset. We will get the unique rows into a list here by checking whether rows from Android dataset correspond to the dictionary 'reviews_max'. We also take the app names and store them in a separate file to keep track of them.*"
   ]
  },
  {
   "cell_type": "code",
   "execution_count": 13,
   "metadata": {},
   "outputs": [
    {
     "name": "stdout",
     "output_type": "stream",
     "text": [
      "['Photo Editor & Candy Camera & Grid & ScrapBook', 'ART_AND_DESIGN', '4.1', '159', '19M', '10,000+', 'Free', '0', 'Everyone', 'Art & Design', 'January 7, 2018', '1.0.0', '4.0.3 and up']\n",
      "\n",
      "\n",
      "['U Launcher Lite – FREE Live Cool Themes, Hide Apps', 'ART_AND_DESIGN', '4.7', '87510', '8.7M', '5,000,000+', 'Free', '0', 'Everyone', 'Art & Design', 'August 1, 2018', '1.2.4', '4.0.3 and up']\n",
      "\n",
      "\n",
      "['Sketch - Draw & Paint', 'ART_AND_DESIGN', '4.5', '215644', '25M', '50,000,000+', 'Free', '0', 'Teen', 'Art & Design', 'June 8, 2018', 'Varies with device', '4.2 and up']\n",
      "\n",
      "\n",
      "['Pixel Draw - Number Art Coloring Book', 'ART_AND_DESIGN', '4.3', '967', '2.8M', '100,000+', 'Free', '0', 'Everyone', 'Art & Design;Creativity', 'June 20, 2018', '1.1', '4.4 and up']\n",
      "\n",
      "\n",
      "['Paper flowers instructions', 'ART_AND_DESIGN', '4.4', '167', '5.6M', '50,000+', 'Free', '0', 'Everyone', 'Art & Design', 'March 26, 2017', '1.0', '2.3 and up']\n",
      "\n",
      "\n",
      "Number of rows: 9659\n",
      "Number of columns: 13\n"
     ]
    }
   ],
   "source": [
    "for app in google:\n",
    "    name = app[0]\n",
    "    n_reviews = float(app[3])\n",
    "    if n_reviews == reviews_max[name] and name not in already_added:\n",
    "        android_clean.append(app)\n",
    "        already_added.append(name)\n",
    "\n",
    "explore_data(android_clean, 0, 5, True)"
   ]
  },
  {
   "cell_type": "markdown",
   "metadata": {},
   "source": [
    "*Find non-English characters.*"
   ]
  },
  {
   "cell_type": "code",
   "execution_count": 14,
   "metadata": {},
   "outputs": [
    {
     "data": {
      "text/plain": [
       "True"
      ]
     },
     "execution_count": 14,
     "metadata": {},
     "output_type": "execute_result"
    }
   ],
   "source": [
    "def characters(string):\n",
    "    for letter in string:\n",
    "        if ord(letter) > 127:\n",
    "            return False\n",
    "            \n",
    "         \n",
    "    return True\n",
    "    \n",
    "characters('Instagram')"
   ]
  },
  {
   "cell_type": "code",
   "execution_count": 15,
   "metadata": {},
   "outputs": [
    {
     "data": {
      "text/plain": [
       "False"
      ]
     },
     "execution_count": 15,
     "metadata": {},
     "output_type": "execute_result"
    }
   ],
   "source": [
    "characters('爱奇艺PPS -《欢乐颂2》电视剧热播')"
   ]
  },
  {
   "cell_type": "code",
   "execution_count": 16,
   "metadata": {},
   "outputs": [
    {
     "data": {
      "text/plain": [
       "False"
      ]
     },
     "execution_count": 16,
     "metadata": {},
     "output_type": "execute_result"
    }
   ],
   "source": [
    "characters('Docs To Go™ Free Office Suite')"
   ]
  },
  {
   "cell_type": "code",
   "execution_count": 17,
   "metadata": {},
   "outputs": [
    {
     "data": {
      "text/plain": [
       "False"
      ]
     },
     "execution_count": 17,
     "metadata": {},
     "output_type": "execute_result"
    }
   ],
   "source": [
    "characters('Instachat 😜')"
   ]
  },
  {
   "cell_type": "markdown",
   "metadata": {},
   "source": [
    "*We re-write our function so as not to lose important rows where there could be emoji characters that our original function would count as non-English. So we will discard the rows if the app name has more than 3 non-ascii characters.*"
   ]
  },
  {
   "cell_type": "code",
   "execution_count": 18,
   "metadata": {
    "collapsed": true
   },
   "outputs": [],
   "source": [
    "def characters(string):\n",
    "    non_american = 0\n",
    "    for letter in string:\n",
    "        if ord(letter) > 127:\n",
    "            non_american += 1\n",
    "    if non_american > 3:\n",
    "            return False\n",
    "    else:                     \n",
    "        return True"
   ]
  },
  {
   "cell_type": "code",
   "execution_count": 19,
   "metadata": {},
   "outputs": [
    {
     "data": {
      "text/plain": [
       "True"
      ]
     },
     "execution_count": 19,
     "metadata": {},
     "output_type": "execute_result"
    }
   ],
   "source": [
    "characters('Docs To Go™ Free Office Suite')"
   ]
  },
  {
   "cell_type": "code",
   "execution_count": 20,
   "metadata": {},
   "outputs": [
    {
     "data": {
      "text/plain": [
       "True"
      ]
     },
     "execution_count": 20,
     "metadata": {},
     "output_type": "execute_result"
    }
   ],
   "source": [
    "characters('Instachat 😜')"
   ]
  },
  {
   "cell_type": "markdown",
   "metadata": {},
   "source": [
    "*The following 2 lists will contain only apps directed at English-speaking audience.*"
   ]
  },
  {
   "cell_type": "code",
   "execution_count": 21,
   "metadata": {},
   "outputs": [
    {
     "name": "stdout",
     "output_type": "stream",
     "text": [
      "['Photo Editor & Candy Camera & Grid & ScrapBook', 'ART_AND_DESIGN', '4.1', '159', '19M', '10,000+', 'Free', '0', 'Everyone', 'Art & Design', 'January 7, 2018', '1.0.0', '4.0.3 and up']\n",
      "\n",
      "\n",
      "['U Launcher Lite – FREE Live Cool Themes, Hide Apps', 'ART_AND_DESIGN', '4.7', '87510', '8.7M', '5,000,000+', 'Free', '0', 'Everyone', 'Art & Design', 'August 1, 2018', '1.2.4', '4.0.3 and up']\n",
      "\n",
      "\n",
      "['Sketch - Draw & Paint', 'ART_AND_DESIGN', '4.5', '215644', '25M', '50,000,000+', 'Free', '0', 'Teen', 'Art & Design', 'June 8, 2018', 'Varies with device', '4.2 and up']\n",
      "\n",
      "\n",
      "['Pixel Draw - Number Art Coloring Book', 'ART_AND_DESIGN', '4.3', '967', '2.8M', '100,000+', 'Free', '0', 'Everyone', 'Art & Design;Creativity', 'June 20, 2018', '1.1', '4.4 and up']\n",
      "\n",
      "\n",
      "['Paper flowers instructions', 'ART_AND_DESIGN', '4.4', '167', '5.6M', '50,000+', 'Free', '0', 'Everyone', 'Art & Design', 'March 26, 2017', '1.0', '2.3 and up']\n",
      "\n",
      "\n",
      "Number of rows: 9614\n",
      "Number of columns: 13\n",
      "\n",
      "\n",
      "['1', '281656475', 'PAC-MAN Premium', '100788224', 'USD', '3.99', '21292', '26', '4', '4.5', '6.3.5', '4+', 'Games', '38', '5', '10', '1']\n",
      "\n",
      "\n",
      "['2', '281796108', 'Evernote - stay organized', '158578688', 'USD', '0', '161065', '26', '4', '3.5', '8.2.2', '4+', 'Productivity', '37', '5', '23', '1']\n",
      "\n",
      "\n",
      "['3', '281940292', 'WeatherBug - Local Weather, Radar, Maps, Alerts', '100524032', 'USD', '0', '188583', '2822', '3.5', '4.5', '5.0.0', '4+', 'Weather', '37', '5', '3', '1']\n",
      "\n",
      "\n",
      "['4', '282614216', 'eBay: Best App to Buy, Sell, Save! Online Shopping', '128512000', 'USD', '0', '262241', '649', '4', '4.5', '5.10.0', '12+', 'Shopping', '37', '5', '9', '1']\n",
      "\n",
      "\n",
      "['5', '282935706', 'Bible', '92774400', 'USD', '0', '985920', '5320', '4.5', '5', '7.5.1', '4+', 'Reference', '37', '5', '45', '1']\n",
      "\n",
      "\n",
      "Number of rows: 6183\n",
      "Number of columns: 17\n"
     ]
    }
   ],
   "source": [
    "google_english = []\n",
    "apple_english = []\n",
    "\n",
    "for app in android_clean:\n",
    "    name = app[0]\n",
    "    if characters(name):\n",
    "        google_english.append(app)\n",
    "        \n",
    "for app in apple:\n",
    "    name = app[2]\n",
    "    if characters(name):\n",
    "        apple_english.append(app)\n",
    "        \n",
    "explore_data(google_english, 0, 5, True)\n",
    "print('\\n')\n",
    "explore_data(apple_english, 0, 5, True)\n"
   ]
  },
  {
   "cell_type": "markdown",
   "metadata": {},
   "source": [
    "*Let's create the final two lists for both datasets. These datasets will contain only free applications.*"
   ]
  },
  {
   "cell_type": "code",
   "execution_count": 22,
   "metadata": {},
   "outputs": [
    {
     "name": "stdout",
     "output_type": "stream",
     "text": [
      "['App', 'Category', 'Rating', 'Reviews', 'Size', 'Installs', 'Type', 'Price', 'Content Rating', 'Genres', 'Last Updated', 'Current Ver', 'Android Ver'] ['', 'id', 'track_name', 'size_bytes', 'currency', 'price', 'rating_count_tot', 'rating_count_ver', 'user_rating', 'user_rating_ver', 'ver', 'cont_rating', 'prime_genre', 'sup_devices.num', 'ipadSc_urls.num', 'lang.num', 'vpp_lic']\n",
      "9\n",
      "12\n"
     ]
    }
   ],
   "source": [
    "print(google_header, apple_header)\n",
    "#7 --> 'Free', 5 --> '0'\n",
    "print(google_header.index('Genres'))\n",
    "print(apple_header.index('prime_genre'))"
   ]
  },
  {
   "cell_type": "code",
   "execution_count": 26,
   "metadata": {},
   "outputs": [
    {
     "name": "stdout",
     "output_type": "stream",
     "text": [
      "8864\n",
      "3222\n",
      "[['Photo Editor & Candy Camera & Grid & ScrapBook', 'ART_AND_DESIGN', '4.1', '159', '19M', '10,000+', 'Free', '0', 'Everyone', 'Art & Design', 'January 7, 2018', '1.0.0', '4.0.3 and up'], ['U Launcher Lite – FREE Live Cool Themes, Hide Apps', 'ART_AND_DESIGN', '4.7', '87510', '8.7M', '5,000,000+', 'Free', '0', 'Everyone', 'Art & Design', 'August 1, 2018', '1.2.4', '4.0.3 and up'], ['Sketch - Draw & Paint', 'ART_AND_DESIGN', '4.5', '215644', '25M', '50,000,000+', 'Free', '0', 'Teen', 'Art & Design', 'June 8, 2018', 'Varies with device', '4.2 and up']]\n"
     ]
    }
   ],
   "source": [
    "google_free = []\n",
    "apple_free = []\n",
    "\n",
    "for app in google_english:\n",
    "    price = app[7]\n",
    "    if price == '0':\n",
    "        google_free.append(app)\n",
    "        \n",
    "for app in apple_english:\n",
    "    price = app[5]\n",
    "    if price == '0':\n",
    "        apple_free.append(app)\n",
    "        \n",
    "print(len(google_free))\n",
    "print(len(apple_free))\n",
    "print(google_free[:3])"
   ]
  },
  {
   "cell_type": "markdown",
   "metadata": {},
   "source": [
    "*To minimize risks and overhead, our validation strategy for an app idea is comprised of three steps:*\n",
    "\n",
    "-Build a minimal Android version of the app, and add it to Google Play.   \n",
    "-If the app has a good response from users, we develop it further.  \n",
    "-If the app is profitable after six months, we build an iOS version of the app and add it to the App Store."
   ]
  },
  {
   "cell_type": "code",
   "execution_count": 37,
   "metadata": {},
   "outputs": [],
   "source": [
    "\n",
    "def freq_table(dataset, index):\n",
    "    percent = {}\n",
    "    total = 0\n",
    "    for app in dataset:\n",
    "        total += 1\n",
    "        column = app[index]\n",
    "        \n",
    "        if column in percent:\n",
    "            percent[column] += 1\n",
    "        else:\n",
    "            percent[column] = 1\n",
    "    frequency = {}\n",
    "    for key in percent:\n",
    "        percentage = (percent[key] / total) * 100\n",
    "        frequency[key] = percentage\n",
    "    return frequency\n",
    "        \n",
    "\n",
    "\n",
    "\n"
   ]
  },
  {
   "cell_type": "code",
   "execution_count": 55,
   "metadata": {},
   "outputs": [],
   "source": [
    "def display_table(dataset, index):\n",
    "    table = freq_table(dataset, index)\n",
    "    table_display = []\n",
    "    for key in table:\n",
    "        key_val_as_tuple = (table[key], key)\n",
    "        table_display.append(key_val_as_tuple)    \n",
    "    table_sorted = sorted(table_display, reverse = True)\n",
    "    for entry in table_sorted:\n",
    "        print(entry[1], ':', entry[0])\n"
   ]
  },
  {
   "cell_type": "code",
   "execution_count": 56,
   "metadata": {},
   "outputs": [
    {
     "name": "stdout",
     "output_type": "stream",
     "text": [
      "FAMILY : 18.907942238267147\n",
      "GAME : 9.724729241877256\n",
      "TOOLS : 8.461191335740072\n",
      "BUSINESS : 4.591606498194946\n",
      "LIFESTYLE : 3.9034296028880866\n",
      "PRODUCTIVITY : 3.892148014440433\n",
      "FINANCE : 3.7003610108303246\n",
      "MEDICAL : 3.531137184115524\n",
      "SPORTS : 3.395758122743682\n",
      "PERSONALIZATION : 3.3167870036101084\n",
      "COMMUNICATION : 3.2378158844765346\n",
      "HEALTH_AND_FITNESS : 3.0798736462093865\n",
      "PHOTOGRAPHY : 2.944494584837545\n",
      "NEWS_AND_MAGAZINES : 2.7978339350180503\n",
      "SOCIAL : 2.6624548736462095\n",
      "TRAVEL_AND_LOCAL : 2.33528880866426\n",
      "SHOPPING : 2.2450361010830324\n",
      "BOOKS_AND_REFERENCE : 2.1435018050541514\n",
      "DATING : 1.861462093862816\n",
      "VIDEO_PLAYERS : 1.7937725631768955\n",
      "MAPS_AND_NAVIGATION : 1.3989169675090252\n",
      "FOOD_AND_DRINK : 1.2409747292418771\n",
      "EDUCATION : 1.1620036101083033\n",
      "ENTERTAINMENT : 0.9589350180505415\n",
      "LIBRARIES_AND_DEMO : 0.9363718411552346\n",
      "AUTO_AND_VEHICLES : 0.9250902527075812\n",
      "HOUSE_AND_HOME : 0.8235559566787004\n",
      "WEATHER : 0.8009927797833934\n",
      "EVENTS : 0.7107400722021661\n",
      "PARENTING : 0.6543321299638989\n",
      "ART_AND_DESIGN : 0.6430505415162455\n",
      "COMICS : 0.6204873646209386\n",
      "BEAUTY : 0.5979241877256317\n",
      "None\n",
      "\n",
      "\n",
      "Tools : 8.449909747292418\n",
      "Entertainment : 6.069494584837545\n",
      "Education : 5.347472924187725\n",
      "Business : 4.591606498194946\n",
      "Productivity : 3.892148014440433\n",
      "Lifestyle : 3.892148014440433\n",
      "Finance : 3.7003610108303246\n",
      "Medical : 3.531137184115524\n",
      "Sports : 3.463447653429603\n",
      "Personalization : 3.3167870036101084\n",
      "Communication : 3.2378158844765346\n",
      "Action : 3.1024368231046933\n",
      "Health & Fitness : 3.0798736462093865\n",
      "Photography : 2.944494584837545\n",
      "News & Magazines : 2.7978339350180503\n",
      "Social : 2.6624548736462095\n",
      "Travel & Local : 2.3240072202166067\n",
      "Shopping : 2.2450361010830324\n",
      "Books & Reference : 2.1435018050541514\n",
      "Simulation : 2.0419675090252705\n",
      "Dating : 1.861462093862816\n",
      "Arcade : 1.8501805054151623\n",
      "Video Players & Editors : 1.7712093862815883\n",
      "Casual : 1.7599277978339352\n",
      "Maps & Navigation : 1.3989169675090252\n",
      "Food & Drink : 1.2409747292418771\n",
      "Puzzle : 1.128158844765343\n",
      "Racing : 0.9927797833935018\n",
      "Role Playing : 0.9363718411552346\n",
      "Libraries & Demo : 0.9363718411552346\n",
      "Auto & Vehicles : 0.9250902527075812\n",
      "Strategy : 0.9138086642599278\n",
      "House & Home : 0.8235559566787004\n",
      "Weather : 0.8009927797833934\n",
      "Events : 0.7107400722021661\n",
      "Adventure : 0.6768953068592057\n",
      "Comics : 0.6092057761732852\n",
      "Beauty : 0.5979241877256317\n",
      "Art & Design : 0.5979241877256317\n",
      "Parenting : 0.4963898916967509\n",
      "Card : 0.45126353790613716\n",
      "Casino : 0.42870036101083037\n",
      "Trivia : 0.41741877256317694\n",
      "Educational;Education : 0.39485559566787\n",
      "Board : 0.3835740072202166\n",
      "Educational : 0.3722924187725632\n",
      "Education;Education : 0.33844765342960287\n",
      "Word : 0.2594765342960289\n",
      "Casual;Pretend Play : 0.236913357400722\n",
      "Music : 0.2030685920577617\n",
      "Racing;Action & Adventure : 0.16922382671480143\n",
      "Puzzle;Brain Games : 0.16922382671480143\n",
      "Entertainment;Music & Video : 0.16922382671480143\n",
      "Casual;Brain Games : 0.13537906137184114\n",
      "Casual;Action & Adventure : 0.13537906137184114\n",
      "Arcade;Action & Adventure : 0.12409747292418773\n",
      "Action;Action & Adventure : 0.10153429602888085\n",
      "Educational;Pretend Play : 0.09025270758122744\n",
      "Simulation;Action & Adventure : 0.078971119133574\n",
      "Parenting;Education : 0.078971119133574\n",
      "Entertainment;Brain Games : 0.078971119133574\n",
      "Board;Brain Games : 0.078971119133574\n",
      "Parenting;Music & Video : 0.06768953068592057\n",
      "Educational;Brain Games : 0.06768953068592057\n",
      "Casual;Creativity : 0.06768953068592057\n",
      "Art & Design;Creativity : 0.06768953068592057\n",
      "Education;Pretend Play : 0.056407942238267145\n",
      "Role Playing;Pretend Play : 0.04512635379061372\n",
      "Education;Creativity : 0.04512635379061372\n",
      "Role Playing;Action & Adventure : 0.033844765342960284\n",
      "Puzzle;Action & Adventure : 0.033844765342960284\n",
      "Entertainment;Creativity : 0.033844765342960284\n",
      "Entertainment;Action & Adventure : 0.033844765342960284\n",
      "Educational;Creativity : 0.033844765342960284\n",
      "Educational;Action & Adventure : 0.033844765342960284\n",
      "Education;Music & Video : 0.033844765342960284\n",
      "Education;Brain Games : 0.033844765342960284\n",
      "Education;Action & Adventure : 0.033844765342960284\n",
      "Adventure;Action & Adventure : 0.033844765342960284\n",
      "Video Players & Editors;Music & Video : 0.02256317689530686\n",
      "Sports;Action & Adventure : 0.02256317689530686\n",
      "Simulation;Pretend Play : 0.02256317689530686\n",
      "Puzzle;Creativity : 0.02256317689530686\n",
      "Music;Music & Video : 0.02256317689530686\n",
      "Entertainment;Pretend Play : 0.02256317689530686\n",
      "Casual;Education : 0.02256317689530686\n",
      "Board;Action & Adventure : 0.02256317689530686\n",
      "Video Players & Editors;Creativity : 0.01128158844765343\n",
      "Trivia;Education : 0.01128158844765343\n",
      "Travel & Local;Action & Adventure : 0.01128158844765343\n",
      "Tools;Education : 0.01128158844765343\n",
      "Strategy;Education : 0.01128158844765343\n",
      "Strategy;Creativity : 0.01128158844765343\n",
      "Strategy;Action & Adventure : 0.01128158844765343\n",
      "Simulation;Education : 0.01128158844765343\n",
      "Role Playing;Brain Games : 0.01128158844765343\n",
      "Racing;Pretend Play : 0.01128158844765343\n",
      "Puzzle;Education : 0.01128158844765343\n",
      "Parenting;Brain Games : 0.01128158844765343\n",
      "Music & Audio;Music & Video : 0.01128158844765343\n",
      "Lifestyle;Pretend Play : 0.01128158844765343\n",
      "Lifestyle;Education : 0.01128158844765343\n",
      "Health & Fitness;Education : 0.01128158844765343\n",
      "Health & Fitness;Action & Adventure : 0.01128158844765343\n",
      "Entertainment;Education : 0.01128158844765343\n",
      "Communication;Creativity : 0.01128158844765343\n",
      "Comics;Creativity : 0.01128158844765343\n",
      "Casual;Music & Video : 0.01128158844765343\n",
      "Card;Action & Adventure : 0.01128158844765343\n",
      "Books & Reference;Education : 0.01128158844765343\n",
      "Art & Design;Pretend Play : 0.01128158844765343\n",
      "Art & Design;Action & Adventure : 0.01128158844765343\n",
      "Arcade;Pretend Play : 0.01128158844765343\n",
      "Adventure;Education : 0.01128158844765343\n",
      "None\n",
      "\n",
      "\n",
      "Games : 58.16263190564867\n",
      "Entertainment : 7.883302296710118\n",
      "Photo & Video : 4.9658597144630665\n",
      "Education : 3.662321539416512\n",
      "Social Networking : 3.2898820608317814\n",
      "Shopping : 2.60707635009311\n",
      "Utilities : 2.5139664804469275\n",
      "Sports : 2.1415270018621975\n",
      "Music : 2.0484171322160147\n",
      "Health & Fitness : 2.0173805090006205\n",
      "Productivity : 1.7380509000620732\n",
      "Lifestyle : 1.5828677839851024\n",
      "News : 1.3345747982619491\n",
      "Travel : 1.2414649286157666\n",
      "Finance : 1.1173184357541899\n",
      "Weather : 0.8690254500310366\n",
      "Food & Drink : 0.8069522036002483\n",
      "Reference : 0.5586592178770949\n",
      "Business : 0.5276225946617008\n",
      "Book : 0.4345127250155183\n",
      "Navigation : 0.186219739292365\n",
      "Medical : 0.186219739292365\n",
      "Catalogs : 0.12414649286157665\n",
      "None\n"
     ]
    }
   ],
   "source": [
    "\n",
    "print(display_table(google_free,1))\n",
    "print('\\n')\n",
    "print(display_table(google_free,9))\n",
    "print('\\n')\n",
    "print(display_table(apple_free,12))"
   ]
  },
  {
   "cell_type": "markdown",
   "metadata": {},
   "source": [
    "*'Family' category comes at the top of the list for Android apps. In its 'Genres' column, education and entertainment is almost even.\n",
    "Among ios apps, games take up more than half of the number of app. Entertainment comes second with almost 8% of frequency among other all other apps. Most of the apps are designed for entertainment purposes, while educational applications only make up 3.6% of the overall pool.*"
   ]
  },
  {
   "cell_type": "code",
   "execution_count": 71,
   "metadata": {},
   "outputs": [
    {
     "name": "stdout",
     "output_type": "stream",
     "text": [
      "Productivity 21028.410714285714\n",
      "Weather 52279.892857142855\n",
      "Shopping 26919.690476190477\n",
      "Reference 74942.11111111111\n",
      "Finance 31467.944444444445\n",
      "Music 57326.530303030304\n",
      "Utilities 18684.456790123455\n",
      "Travel 28243.8\n",
      "Social Networking 71548.34905660378\n",
      "Sports 23008.898550724636\n",
      "Health & Fitness 23298.015384615384\n",
      "Games 22788.6696905016\n",
      "Food & Drink 33333.92307692308\n",
      "News 21248.023255813954\n",
      "Book 39758.5\n",
      "Photo & Video 28441.54375\n",
      "Entertainment 14029.830708661417\n",
      "Business 7491.117647058823\n",
      "Lifestyle 16485.764705882353\n",
      "Education 7003.983050847458\n",
      "Navigation 86090.33333333333\n",
      "Medical 612.0\n",
      "Catalogs 4004.0\n"
     ]
    }
   ],
   "source": [
    "apple_genres = freq_table(apple_free, 12)\n",
    "\n",
    "\n",
    "for genre in apple_genres:\n",
    "    total = 0\n",
    "    len_genre = 0\n",
    "    for app in apple_free:\n",
    "        genre_app = app[12]\n",
    "        if genre_app == genre:\n",
    "            ratings = float(app[6])\n",
    "            total+=ratings\n",
    "            len_genre+=1\n",
    "    average = total/len_genre\n",
    "    print(genre, average)"
   ]
  },
  {
   "cell_type": "markdown",
   "metadata": {},
   "source": [
    "*Navigation apps, by far, have the most reviews. However, this does not mean we need more navigation app. In every day life Google Maps, for instance, is essential to getting around and other apps do not get used as often because they are not seen as necessarily 'essential' to our every day life. What is worth looking into are apps that are rated fairly often and still have room for development. For example, take 'Reference' genre from iOS file. The number of ratings vary immensely between apps labeled as 'Reference'. **Dictionary** apps have a lot more reviews that **Real Bike Traffice Rider VR Glasses** app, it would help to add apps for testing vocabulary to help students get ready for standardized tests, or just help individuals improve their vocabulary.*"
   ]
  },
  {
   "cell_type": "code",
   "execution_count": 84,
   "metadata": {},
   "outputs": [
    {
     "name": "stdout",
     "output_type": "stream",
     "text": [
      "Reference Bible 985920\n",
      "Reference Dictionary.com Dictionary & Thesaurus 200047\n",
      "Reference Dictionary.com Dictionary & Thesaurus for iPad 54175\n",
      "Reference Muslim Pro: Ramadan 2017 Prayer Times, Azan, Quran 18418\n",
      "Reference Merriam-Webster Dictionary 16849\n",
      "Reference Google Translate 26786\n",
      "Reference Night Sky 12122\n",
      "Reference WWDC 762\n",
      "Reference Jishokun-Japanese English Dictionary & Translator 0\n",
      "Reference 教えて!goo 0\n",
      "Reference VPN Express 14\n",
      "Reference New Furniture Mods - Pocket Wiki & Game Tools for Minecraft PC Edition 17588\n",
      "Reference LUCKY BLOCK MOD ™ for Minecraft PC Edition - The Best Pocket Wiki & Mods Installer Tools 4693\n",
      "Reference Guides for Pokémon GO - Pokemon GO News and Cheats 826\n",
      "Reference Horror Maps for Minecraft PE - Download The Scariest Maps for Minecraft Pocket Edition (MCPE) Free 718\n",
      "Reference City Maps for Minecraft PE - The Best Maps for Minecraft Pocket Edition (MCPE) 8535\n",
      "Reference GUNS MODS for Minecraft PC Edition - Mods Tools 1497\n",
      "Reference Real Bike Traffic Rider Virtual Reality Glasses 8\n"
     ]
    }
   ],
   "source": [
    "for app in apple_free:\n",
    "    if app[12] == 'Reference':\n",
    "        print(app[12], app[2], app[6])"
   ]
  },
  {
   "cell_type": "code",
   "execution_count": 86,
   "metadata": {},
   "outputs": [
    {
     "name": "stdout",
     "output_type": "stream",
     "text": [
      "FAMILY : 18.907942238267147\n",
      "GAME : 9.724729241877256\n",
      "TOOLS : 8.461191335740072\n",
      "BUSINESS : 4.591606498194946\n",
      "LIFESTYLE : 3.9034296028880866\n",
      "PRODUCTIVITY : 3.892148014440433\n",
      "FINANCE : 3.7003610108303246\n",
      "MEDICAL : 3.531137184115524\n",
      "SPORTS : 3.395758122743682\n",
      "PERSONALIZATION : 3.3167870036101084\n",
      "COMMUNICATION : 3.2378158844765346\n",
      "HEALTH_AND_FITNESS : 3.0798736462093865\n",
      "PHOTOGRAPHY : 2.944494584837545\n",
      "NEWS_AND_MAGAZINES : 2.7978339350180503\n",
      "SOCIAL : 2.6624548736462095\n",
      "TRAVEL_AND_LOCAL : 2.33528880866426\n",
      "SHOPPING : 2.2450361010830324\n",
      "BOOKS_AND_REFERENCE : 2.1435018050541514\n",
      "DATING : 1.861462093862816\n",
      "VIDEO_PLAYERS : 1.7937725631768955\n",
      "MAPS_AND_NAVIGATION : 1.3989169675090252\n",
      "FOOD_AND_DRINK : 1.2409747292418771\n",
      "EDUCATION : 1.1620036101083033\n",
      "ENTERTAINMENT : 0.9589350180505415\n",
      "LIBRARIES_AND_DEMO : 0.9363718411552346\n",
      "AUTO_AND_VEHICLES : 0.9250902527075812\n",
      "HOUSE_AND_HOME : 0.8235559566787004\n",
      "WEATHER : 0.8009927797833934\n",
      "EVENTS : 0.7107400722021661\n",
      "PARENTING : 0.6543321299638989\n",
      "ART_AND_DESIGN : 0.6430505415162455\n",
      "COMICS : 0.6204873646209386\n",
      "BEAUTY : 0.5979241877256317\n",
      "None\n"
     ]
    }
   ],
   "source": [
    "google_categories = display_table(google_free, 1)\n",
    "print(google_categories)"
   ]
  },
  {
   "cell_type": "code",
   "execution_count": 78,
   "metadata": {},
   "outputs": [
    {
     "name": "stdout",
     "output_type": "stream",
     "text": [
      "ART_AND_DESIGN 1986335.0877192982\n",
      "AUTO_AND_VEHICLES 647317.8170731707\n",
      "BEAUTY 513151.88679245283\n",
      "BOOKS_AND_REFERENCE 8767811.894736841\n",
      "BUSINESS 1712290.1474201474\n",
      "COMICS 817657.2727272727\n",
      "COMMUNICATION 38456119.167247385\n",
      "DATING 854028.8303030303\n",
      "EDUCATION 1833495.145631068\n",
      "ENTERTAINMENT 11640705.88235294\n",
      "EVENTS 253542.22222222222\n",
      "FINANCE 1387692.475609756\n",
      "FOOD_AND_DRINK 1924897.7363636363\n",
      "HEALTH_AND_FITNESS 4188821.9853479853\n",
      "HOUSE_AND_HOME 1331540.5616438356\n",
      "LIBRARIES_AND_DEMO 638503.734939759\n",
      "LIFESTYLE 1437816.2687861272\n",
      "GAME 15588015.603248259\n",
      "FAMILY 3695641.8198090694\n",
      "MEDICAL 120550.61980830671\n",
      "SOCIAL 23253652.127118643\n",
      "SHOPPING 7036877.311557789\n",
      "PHOTOGRAPHY 17840110.40229885\n",
      "SPORTS 3638640.1428571427\n",
      "TRAVEL_AND_LOCAL 13984077.710144928\n",
      "TOOLS 10801391.298666667\n",
      "PERSONALIZATION 5201482.6122448975\n",
      "PRODUCTIVITY 16787331.344927534\n",
      "PARENTING 542603.6206896552\n",
      "WEATHER 5074486.197183099\n",
      "VIDEO_PLAYERS 24727872.452830188\n",
      "NEWS_AND_MAGAZINES 9549178.467741935\n",
      "MAPS_AND_NAVIGATION 4056941.7741935486\n"
     ]
    }
   ],
   "source": [
    "for category in google_categories:\n",
    "    total = 0\n",
    "    len_category = 0\n",
    "    for app in google_free:\n",
    "        category_app = app[1]\n",
    "        if category_app == category:\n",
    "            installs = app[5]\n",
    "            installs = installs.replace('+', '')\n",
    "            installs = installs.replace(',', '')\n",
    "            total += float(installs)\n",
    "            len_category += 1\n",
    "    average = total/len_category\n",
    "    print(category, average)\n",
    "    \n"
   ]
  },
  {
   "cell_type": "code",
   "execution_count": 85,
   "metadata": {},
   "outputs": [
    {
     "name": "stdout",
     "output_type": "stream",
     "text": [
      "Tools : 8.449909747292418\n",
      "Entertainment : 6.069494584837545\n",
      "Education : 5.347472924187725\n",
      "Business : 4.591606498194946\n",
      "Productivity : 3.892148014440433\n",
      "Lifestyle : 3.892148014440433\n",
      "Finance : 3.7003610108303246\n",
      "Medical : 3.531137184115524\n",
      "Sports : 3.463447653429603\n",
      "Personalization : 3.3167870036101084\n",
      "Communication : 3.2378158844765346\n",
      "Action : 3.1024368231046933\n",
      "Health & Fitness : 3.0798736462093865\n",
      "Photography : 2.944494584837545\n",
      "News & Magazines : 2.7978339350180503\n",
      "Social : 2.6624548736462095\n",
      "Travel & Local : 2.3240072202166067\n",
      "Shopping : 2.2450361010830324\n",
      "Books & Reference : 2.1435018050541514\n",
      "Simulation : 2.0419675090252705\n",
      "Dating : 1.861462093862816\n",
      "Arcade : 1.8501805054151623\n",
      "Video Players & Editors : 1.7712093862815883\n",
      "Casual : 1.7599277978339352\n",
      "Maps & Navigation : 1.3989169675090252\n",
      "Food & Drink : 1.2409747292418771\n",
      "Puzzle : 1.128158844765343\n",
      "Racing : 0.9927797833935018\n",
      "Role Playing : 0.9363718411552346\n",
      "Libraries & Demo : 0.9363718411552346\n",
      "Auto & Vehicles : 0.9250902527075812\n",
      "Strategy : 0.9138086642599278\n",
      "House & Home : 0.8235559566787004\n",
      "Weather : 0.8009927797833934\n",
      "Events : 0.7107400722021661\n",
      "Adventure : 0.6768953068592057\n",
      "Comics : 0.6092057761732852\n",
      "Beauty : 0.5979241877256317\n",
      "Art & Design : 0.5979241877256317\n",
      "Parenting : 0.4963898916967509\n",
      "Card : 0.45126353790613716\n",
      "Casino : 0.42870036101083037\n",
      "Trivia : 0.41741877256317694\n",
      "Educational;Education : 0.39485559566787\n",
      "Board : 0.3835740072202166\n",
      "Educational : 0.3722924187725632\n",
      "Education;Education : 0.33844765342960287\n",
      "Word : 0.2594765342960289\n",
      "Casual;Pretend Play : 0.236913357400722\n",
      "Music : 0.2030685920577617\n",
      "Racing;Action & Adventure : 0.16922382671480143\n",
      "Puzzle;Brain Games : 0.16922382671480143\n",
      "Entertainment;Music & Video : 0.16922382671480143\n",
      "Casual;Brain Games : 0.13537906137184114\n",
      "Casual;Action & Adventure : 0.13537906137184114\n",
      "Arcade;Action & Adventure : 0.12409747292418773\n",
      "Action;Action & Adventure : 0.10153429602888085\n",
      "Educational;Pretend Play : 0.09025270758122744\n",
      "Simulation;Action & Adventure : 0.078971119133574\n",
      "Parenting;Education : 0.078971119133574\n",
      "Entertainment;Brain Games : 0.078971119133574\n",
      "Board;Brain Games : 0.078971119133574\n",
      "Parenting;Music & Video : 0.06768953068592057\n",
      "Educational;Brain Games : 0.06768953068592057\n",
      "Casual;Creativity : 0.06768953068592057\n",
      "Art & Design;Creativity : 0.06768953068592057\n",
      "Education;Pretend Play : 0.056407942238267145\n",
      "Role Playing;Pretend Play : 0.04512635379061372\n",
      "Education;Creativity : 0.04512635379061372\n",
      "Role Playing;Action & Adventure : 0.033844765342960284\n",
      "Puzzle;Action & Adventure : 0.033844765342960284\n",
      "Entertainment;Creativity : 0.033844765342960284\n",
      "Entertainment;Action & Adventure : 0.033844765342960284\n",
      "Educational;Creativity : 0.033844765342960284\n",
      "Educational;Action & Adventure : 0.033844765342960284\n",
      "Education;Music & Video : 0.033844765342960284\n",
      "Education;Brain Games : 0.033844765342960284\n",
      "Education;Action & Adventure : 0.033844765342960284\n",
      "Adventure;Action & Adventure : 0.033844765342960284\n",
      "Video Players & Editors;Music & Video : 0.02256317689530686\n",
      "Sports;Action & Adventure : 0.02256317689530686\n",
      "Simulation;Pretend Play : 0.02256317689530686\n",
      "Puzzle;Creativity : 0.02256317689530686\n",
      "Music;Music & Video : 0.02256317689530686\n",
      "Entertainment;Pretend Play : 0.02256317689530686\n",
      "Casual;Education : 0.02256317689530686\n",
      "Board;Action & Adventure : 0.02256317689530686\n",
      "Video Players & Editors;Creativity : 0.01128158844765343\n",
      "Trivia;Education : 0.01128158844765343\n",
      "Travel & Local;Action & Adventure : 0.01128158844765343\n",
      "Tools;Education : 0.01128158844765343\n",
      "Strategy;Education : 0.01128158844765343\n",
      "Strategy;Creativity : 0.01128158844765343\n",
      "Strategy;Action & Adventure : 0.01128158844765343\n",
      "Simulation;Education : 0.01128158844765343\n",
      "Role Playing;Brain Games : 0.01128158844765343\n",
      "Racing;Pretend Play : 0.01128158844765343\n",
      "Puzzle;Education : 0.01128158844765343\n",
      "Parenting;Brain Games : 0.01128158844765343\n",
      "Music & Audio;Music & Video : 0.01128158844765343\n",
      "Lifestyle;Pretend Play : 0.01128158844765343\n",
      "Lifestyle;Education : 0.01128158844765343\n",
      "Health & Fitness;Education : 0.01128158844765343\n",
      "Health & Fitness;Action & Adventure : 0.01128158844765343\n",
      "Entertainment;Education : 0.01128158844765343\n",
      "Communication;Creativity : 0.01128158844765343\n",
      "Comics;Creativity : 0.01128158844765343\n",
      "Casual;Music & Video : 0.01128158844765343\n",
      "Card;Action & Adventure : 0.01128158844765343\n",
      "Books & Reference;Education : 0.01128158844765343\n",
      "Art & Design;Pretend Play : 0.01128158844765343\n",
      "Art & Design;Action & Adventure : 0.01128158844765343\n",
      "Arcade;Pretend Play : 0.01128158844765343\n",
      "Adventure;Education : 0.01128158844765343\n",
      "None\n"
     ]
    }
   ],
   "source": [
    "google_genres = display_table(google_free, 9)\n",
    "print(google_genres)"
   ]
  },
  {
   "cell_type": "code",
   "execution_count": 81,
   "metadata": {},
   "outputs": [
    {
     "name": "stdout",
     "output_type": "stream",
     "text": [
      "Art & Design 1973878.9473684211\n",
      "Art & Design;Creativity 27142.85714285714\n",
      "Auto & Vehicles 366069.38620689657\n",
      "Beauty 137358.8383838384\n",
      "Books & Reference 4293516.134020618\n",
      "Business 876606.4025157233\n",
      "Comics 52910.65959952886\n",
      "Comics;Creativity 58.8235294117647\n",
      "Communication 9707041.513632366\n",
      "Dating 108229.46006144393\n",
      "Education 146840.0337837838\n",
      "Education;Creativity 6460.6741573033705\n",
      "Education;Education 78887.02209944751\n",
      "Education;Pretend Play 4958.677685950413\n",
      "Education;Brain Games 8800.8800880088\n",
      "Entertainment 1279415.328098472\n",
      "Entertainment;Brain Games 9818.0279305967\n",
      "Entertainment;Creativity 5071.85122569738\n",
      "Entertainment;Music & Video 40403.191936161274\n",
      "Events 6535.662847790507\n",
      "Finance 164200.26406926406\n",
      "Food & Drink 73469.37925052048\n",
      "Health & Fitness 362455.9118858954\n",
      "House & Home 30112.286555142502\n",
      "Libraries & Demo 16005.98308668076\n",
      "Lifestyle 133338.19173960612\n",
      "Lifestyle;Pretend Play 2734.4818156959254\n",
      "Card 41281.71490397619\n",
      "Arcade 972207.1846671847\n",
      "Puzzle 209615.29689472355\n",
      "Racing 345798.17732773523\n",
      "Sports 323973.9859963269\n",
      "Casual 676595.4277482269\n",
      "Simulation 134042.74877477094\n",
      "Adventure 62143.30317694088\n",
      "Trivia 26847.885177453027\n",
      "Action 684301.4689042448\n",
      "Word 41110.95715408805\n",
      "Role Playing 63652.788628891896\n",
      "Strategy 172732.6932597106\n",
      "Board 30611.63639803254\n",
      "Music 32055.147058823528\n",
      "Action;Action & Adventure 9975.53171466215\n",
      "Casual;Brain Games 3213.3333333333335\n",
      "Educational;Creativity 1313.8138138138138\n",
      "Puzzle;Brain Games 26054.650945161895\n",
      "Educational;Education 11305.319821494979\n",
      "Casual;Pretend Play 27060.566771624373\n",
      "Educational;Brain Games 4921.369102682701\n",
      "Art & Design;Pretend Play 92.4898261191269\n",
      "Educational;Pretend Play 13852.973771702993\n",
      "Entertainment;Education 184.67220683287167\n",
      "Casual;Education 369.20804873546246\n",
      "Casual;Creativity 5900.792919048497\n",
      "Casual;Action & Adventure 28518.859245630174\n",
      "Music;Music & Video 1857.6420820305316\n",
      "Arcade;Pretend Play 183.89113644722323\n",
      "Adventure;Action & Adventure 19481.712920419042\n",
      "Role Playing;Action & Adventure 3857.4577516531963\n",
      "Simulation;Pretend Play 201.98310686742565\n",
      "Puzzle;Creativity 275.3303964757709\n",
      "Simulation;Action & Adventure 6232.813932172319\n",
      "Racing;Action & Adventure 24177.330895795247\n",
      "Sports;Action & Adventure 1845.7602339181287\n",
      "Educational;Action & Adventure 9324.20091324201\n",
      "Arcade;Action & Adventure 6398.104447685017\n",
      "Entertainment;Action & Adventure 1275.2778283840407\n",
      "Art & Design;Action & Adventure 18.214936247723134\n",
      "Puzzle;Action & Adventure 10030.948479883487\n",
      "Education;Action & Adventure 545.8515283842795\n",
      "Strategy;Action & Adventure 181.91740949608877\n",
      "Music & Audio;Music & Video 90.94216078574027\n",
      "Health & Fitness;Education 18.18512456810329\n",
      "Board;Action & Adventure 1090.7107798582076\n",
      "Board;Brain Games 517.4291938997821\n",
      "Casual;Music & Video 1815.211472136504\n",
      "Education;Music & Video 1106.6763425253991\n",
      "Role Playing;Pretend Play 3825.2356780275563\n",
      "Entertainment;Pretend Play 1087.3504893077202\n",
      "Medical 6470.990224661293\n",
      "Social 904542.921048294\n",
      "Shopping 223482.05952760932\n",
      "Photography 713385.7537919412\n",
      "Travel & Local 429912.97876132483\n",
      "Travel & Local;Action & Adventure 14.85001485001485\n",
      "Tools 1081256.6449285047\n",
      "Tools;Education 1336.1838588989845\n",
      "Personalization 196610.42530213422\n",
      "Productivity 712991.4211498215\n",
      "Parenting 2521.245255295702\n",
      "Parenting;Music & Video 820.9959623149394\n",
      "Parenting;Education 387.53056234718827\n",
      "Parenting;Brain Games 122.2344456667889\n",
      "Weather 43660.75133301018\n",
      "Video Players & Editors 465778.5372814841\n",
      "Video Players & Editors;Music & Video 1783.378908572108\n",
      "Video Players & Editors;Creativity 594.3889681407513\n",
      "News & Magazines 273463.7713625866\n",
      "Maps & Navigation 57270.1252276867\n",
      "Health & Fitness;Action & Adventure 113.83039271485487\n",
      "Educational 1538.7956452710366\n",
      "Casino 14708.739837398374\n",
      "Trivia;Education 0.011290504685559444\n",
      "Lifestyle;Education 11.289230074508918\n",
      "Card;Action & Adventure 1128.7955751213456\n",
      "Books & Reference;Education 0.11286681715575621\n",
      "Simulation;Education 0.056427039837490124\n",
      "Puzzle;Education 11.284134506883323\n",
      "Adventure;Education 1128.286133363421\n",
      "Role Playing;Brain Games 1128.158844765343\n",
      "Strategy;Education 56.40157924421884\n",
      "Racing;Pretend Play 112.79043537108053\n",
      "Communication;Creativity 56.3888575617458\n",
      "Strategy;Creativity 112.76499774470004\n"
     ]
    }
   ],
   "source": [
    "for genre in google_genres:\n",
    "    total = 0\n",
    "    len_category = 0\n",
    "    for app in google_free:\n",
    "        genre_app = app[9]\n",
    "        if genre_app == genre:\n",
    "            installs = app[5]\n",
    "            installs = installs.replace('+', '')\n",
    "            installs = installs.replace(',', '')\n",
    "            total += float(installs)\n",
    "            len_genre += 1\n",
    "    average = total/len_genre\n",
    "    print(genre, average)"
   ]
  },
  {
   "cell_type": "markdown",
   "metadata": {},
   "source": [
    "# Conclusions"
   ]
  },
  {
   "cell_type": "code",
   "execution_count": null,
   "metadata": {
    "collapsed": true
   },
   "outputs": [],
   "source": []
  }
 ],
 "metadata": {
  "kernelspec": {
   "display_name": "Python 3",
   "language": "python",
   "name": "python3"
  },
  "language_info": {
   "codemirror_mode": {
    "name": "ipython",
    "version": 3
   },
   "file_extension": ".py",
   "mimetype": "text/x-python",
   "name": "python",
   "nbconvert_exporter": "python",
   "pygments_lexer": "ipython3",
   "version": "3.6.3"
  }
 },
 "nbformat": 4,
 "nbformat_minor": 2
}
